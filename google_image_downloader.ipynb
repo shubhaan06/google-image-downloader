{
  "nbformat": 4,
  "nbformat_minor": 0,
  "metadata": {
    "colab": {
      "provenance": [],
      "authorship_tag": "ABX9TyPKuU9Bgg/Qm6rwgx35Egd+",
      "include_colab_link": true
    },
    "kernelspec": {
      "name": "python3",
      "display_name": "Python 3"
    },
    "language_info": {
      "name": "python"
    }
  },
  "cells": [
    {
      "cell_type": "markdown",
      "metadata": {
        "id": "view-in-github",
        "colab_type": "text"
      },
      "source": [
        "<a href=\"https://colab.research.google.com/github/shubhaan06/google-image-downloader/blob/main/google_image_downloader.ipynb\" target=\"_parent\"><img src=\"https://colab.research.google.com/assets/colab-badge.svg\" alt=\"Open In Colab\"/></a>"
      ]
    },
    {
      "cell_type": "code",
      "execution_count": 5,
      "metadata": {
        "colab": {
          "base_uri": "https://localhost:8080/"
        },
        "collapsed": true,
        "id": "kk0ba0lj_wcF",
        "outputId": "3a132f16-ebd0-4897-f7d6-777195716e76"
      },
      "outputs": [
        {
          "output_type": "stream",
          "name": "stdout",
          "text": [
            "Requirement already satisfied: icrawler in /usr/local/lib/python3.10/dist-packages (0.6.9)\n",
            "Requirement already satisfied: beautifulsoup4 in /usr/local/lib/python3.10/dist-packages (from icrawler) (4.12.3)\n",
            "Requirement already satisfied: bs4 in /usr/local/lib/python3.10/dist-packages (from icrawler) (0.0.2)\n",
            "Requirement already satisfied: lxml in /usr/local/lib/python3.10/dist-packages (from icrawler) (4.9.4)\n",
            "Requirement already satisfied: pillow in /usr/local/lib/python3.10/dist-packages (from icrawler) (9.4.0)\n",
            "Requirement already satisfied: pyyaml in /usr/local/lib/python3.10/dist-packages (from icrawler) (6.0.1)\n",
            "Requirement already satisfied: requests in /usr/local/lib/python3.10/dist-packages (from icrawler) (2.31.0)\n",
            "Requirement already satisfied: six in /usr/local/lib/python3.10/dist-packages (from icrawler) (1.16.0)\n",
            "Requirement already satisfied: soupsieve>1.2 in /usr/local/lib/python3.10/dist-packages (from beautifulsoup4->icrawler) (2.5)\n",
            "Requirement already satisfied: charset-normalizer<4,>=2 in /usr/local/lib/python3.10/dist-packages (from requests->icrawler) (3.3.2)\n",
            "Requirement already satisfied: idna<4,>=2.5 in /usr/local/lib/python3.10/dist-packages (from requests->icrawler) (3.7)\n",
            "Requirement already satisfied: urllib3<3,>=1.21.1 in /usr/local/lib/python3.10/dist-packages (from requests->icrawler) (2.0.7)\n",
            "Requirement already satisfied: certifi>=2017.4.17 in /usr/local/lib/python3.10/dist-packages (from requests->icrawler) (2024.6.2)\n"
          ]
        }
      ],
      "source": [
        "!pip install icrawler"
      ]
    },
    {
      "cell_type": "code",
      "source": [
        "from icrawler.builtin import GoogleImageCrawler\n",
        "google_crawler=GoogleImageCrawler(storage={'root_dir':r'dog images'})\n",
        "google_crawler.crawl(keyword='dogs',max_num=10)\n"
      ],
      "metadata": {
        "id": "Ikf5Ymw3AM9w"
      },
      "execution_count": 4,
      "outputs": []
    },
    {
      "cell_type": "code",
      "source": [
        "from icrawler.builtin import GoogleImageCrawler\n",
        "\n",
        "def download_images_with_filters(keyword, max_num, filters):\n",
        "    google_crawler = GoogleImageCrawler(storage={'root_dir': f'./images/{keyword}'})\n",
        "    google_crawler.crawl(keyword=keyword, max_num=max_num, filters=filters)\n",
        "\n",
        "# Example usage with filters\n",
        "filters = {\n",
        "    'size': 'large',\n",
        "    'color': 'blackandwhite',\n",
        "    'type': 'photo'\n",
        "}\n",
        "\n",
        "download_images_with_filters('cats', 10, filters)"
      ],
      "metadata": {
        "collapsed": true,
        "id": "_WJA6GQvG-dX"
      },
      "execution_count": null,
      "outputs": []
    }
  ]
}